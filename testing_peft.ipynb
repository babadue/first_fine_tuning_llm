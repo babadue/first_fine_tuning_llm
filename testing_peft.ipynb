{
 "cells": [
  {
   "cell_type": "code",
   "execution_count": null,
   "id": "4f9de03e-fcbf-4946-b25a-667abcfa1d22",
   "metadata": {},
   "outputs": [],
   "source": [
    "from transformers import AutoModelForSeq2SeqLM, AutoTokenizer, GenerationConfig\n",
    "import torch\n",
    "\n",
    "# PEFT model\n",
    "output_dir=\"./flan_t5_fine_tuned_peft-local\"   \n"
   ]
  },
  {
   "cell_type": "code",
   "execution_count": null,
   "id": "b1ad03c9-12c9-4661-876b-b916f3c1175d",
   "metadata": {},
   "outputs": [],
   "source": [
    "from peft import PeftModel, PeftConfig\n",
    "\n",
    "peft_model_base = AutoModelForSeq2SeqLM.from_pretrained(\"google/flan-t5-base\", torch_dtype=torch.bfloat16)\n",
    "tokenizer = AutoTokenizer.from_pretrained(\"google/flan-t5-base\")\n",
    "\n",
    "peft_model = PeftModel.from_pretrained(peft_model_base, \n",
    "                                       './flan_t5_fine_tuned_peft-local', \n",
    "                                       torch_dtype=torch.bfloat16,\n",
    "                                       is_trainable=False)"
   ]
  },
  {
   "cell_type": "code",
   "execution_count": null,
   "id": "56111d1c-68e7-489f-ac85-9725dedd67a4",
   "metadata": {},
   "outputs": [],
   "source": [
    "# Input prompt\n",
    "# input_prompt = \"who is your boss?\"\n",
    "input_prompt = \"hello\"\n",
    "\n",
    "# Move input_ids tensor to the desired device\n",
    "input_ids = tokenizer(input_prompt, return_tensors=\"pt\").input_ids  \n",
    "\n"
   ]
  },
  {
   "cell_type": "code",
   "execution_count": null,
   "id": "8fd50308-b037-4e13-a44d-d122e0c94739",
   "metadata": {},
   "outputs": [],
   "source": [
    "peft_model_outputs = peft_model.generate(input_ids=input_ids, generation_config=GenerationConfig(max_new_tokens=200, num_beams=1))\n",
    "peft_model_text_output = tokenizer.decode(peft_model_outputs[0], skip_special_tokens=True)\n",
    "\n"
   ]
  },
  {
   "cell_type": "code",
   "execution_count": null,
   "id": "65a123e0-00cb-4785-835e-449f93595de3",
   "metadata": {},
   "outputs": [],
   "source": [
    "# Print the result\n",
    "print(\"Input:\", input_prompt)\n",
    "print(\"Model's Response:\", peft_model_text_output)"
   ]
  },
  {
   "cell_type": "code",
   "execution_count": null,
   "id": "53b0421a-bf9c-4fce-ae18-7adff58fa656",
   "metadata": {},
   "outputs": [],
   "source": []
  }
 ],
 "metadata": {
  "kernelspec": {
   "display_name": "Python 3 (ipykernel)",
   "language": "python",
   "name": "python3"
  },
  "language_info": {
   "codemirror_mode": {
    "name": "ipython",
    "version": 3
   },
   "file_extension": ".py",
   "mimetype": "text/x-python",
   "name": "python",
   "nbconvert_exporter": "python",
   "pygments_lexer": "ipython3",
   "version": "3.11.7"
  }
 },
 "nbformat": 4,
 "nbformat_minor": 5
}
