{
 "cells": [
  {
   "cell_type": "code",
   "execution_count": null,
   "id": "8681d987-8ccb-4db1-9579-cca1789e9792",
   "metadata": {},
   "outputs": [],
   "source": [
    "from transformers import T5Tokenizer, T5ForConditionalGeneration, Trainer, TrainingArguments\n",
    "from torch.utils.data import Dataset\n",
    "import torch"
   ]
  },
  {
   "cell_type": "code",
   "execution_count": null,
   "id": "fb79ba3f-6214-4ee6-8309-37605e7d0feb",
   "metadata": {},
   "outputs": [],
   "source": [
    "# Initialize the tokenizer and model\n",
    "tokenizer = T5Tokenizer.from_pretrained(\"google/flan-t5-base\")\n",
    "model = T5ForConditionalGeneration.from_pretrained(\"google/flan-t5-base\")"
   ]
  },
  {
   "cell_type": "code",
   "execution_count": null,
   "id": "71d06f0c-4a4c-447b-9e46-e21e185603d4",
   "metadata": {},
   "outputs": [],
   "source": [
    "# Define your dataset class\n",
    "class SimpleDataset(Dataset):\n",
    "    def __init__(self, input_texts, target_texts, tokenizer, max_length):\n",
    "        self.input_texts = input_texts\n",
    "        self.target_texts = target_texts\n",
    "        self.tokenizer = tokenizer\n",
    "        self.max_length = max_length\n",
    "\n",
    "    def __len__(self):\n",
    "        return len(self.input_texts)\n",
    "\n",
    "    def __getitem__(self, idx):\n",
    "        input_text = self.input_texts[idx]\n",
    "        target_text = self.target_texts[idx]\n",
    "\n",
    "        # Tokenize input and target text with specified max length\n",
    "        input_encodings = self.tokenizer(input_text, return_tensors=\"pt\", max_length=self.max_length, padding=True, truncation=True)\n",
    "        target_encodings = self.tokenizer(target_text, return_tensors=\"pt\", max_length=self.max_length, padding=True, truncation=True)\n",
    "\n",
    "        # Remove unnecessary keys from target_encodings\n",
    "        target_encodings[\"input_ids\"] = target_encodings.pop(\"input_ids\")\n",
    "\n",
    "        return {\n",
    "            \"input_ids\": input_encodings[\"input_ids\"].squeeze(),\n",
    "            \"attention_mask\": input_encodings[\"attention_mask\"].squeeze(),\n",
    "            \"labels\": target_encodings[\"input_ids\"].squeeze(),\n",
    "        }\n",
    "\n",
    "# Custom data collator for padding\n",
    "def collate_fn(batch):\n",
    "    input_ids = [item[\"input_ids\"] for item in batch]\n",
    "    attention_mask = [item[\"attention_mask\"] for item in batch]\n",
    "    labels = [item[\"labels\"] for item in batch]\n",
    "\n",
    "    # Pad sequences to the length of the longest sequence in the batch\n",
    "    input_ids = torch.nn.utils.rnn.pad_sequence(input_ids, batch_first=True, padding_value=tokenizer.pad_token_id)\n",
    "    attention_mask = torch.nn.utils.rnn.pad_sequence(attention_mask, batch_first=True, padding_value=0)\n",
    "    labels = torch.nn.utils.rnn.pad_sequence(labels, batch_first=True, padding_value=tokenizer.pad_token_id)\n",
    "\n",
    "    return {\n",
    "        \"input_ids\": input_ids,\n",
    "        \"attention_mask\": attention_mask,\n",
    "        \"labels\": labels,\n",
    "    }\n"
   ]
  },
  {
   "cell_type": "code",
   "execution_count": null,
   "id": "d35d6e02-1deb-472d-b755-c0190f3ae260",
   "metadata": {},
   "outputs": [],
   "source": [
    "# Your input and target texts\n",
    "input_texts = [\n",
    "    \"Who is your boss?\", \n",
    "    \"Hello\",\n",
    "] * 500  # Repeat for more instances\n",
    "\n",
    "target_texts = [\n",
    "    \"You are my boss.\",\n",
    "    \"What is your problem, human?\",\n",
    "] * 500"
   ]
  },
  {
   "cell_type": "code",
   "execution_count": null,
   "id": "21cca984-c02e-4576-a2a9-4570ba956e38",
   "metadata": {},
   "outputs": [],
   "source": [
    "# Set a maximum sequence length for both input and output\n",
    "max_length = 20\n",
    "\n",
    "# Create the dataset\n",
    "dataset = SimpleDataset(input_texts, target_texts, tokenizer, max_length)\n",
    "\n",
    "# Split the dataset into training and evaluation sets\n",
    "train_size = int(0.8 * len(dataset))\n",
    "eval_size = len(dataset) - train_size\n",
    "train_dataset, eval_dataset = torch.utils.data.random_split(dataset, [train_size, eval_size])"
   ]
  },
  {
   "cell_type": "code",
   "execution_count": null,
   "id": "0093e77d-3978-4f8f-91a9-9badb686213d",
   "metadata": {},
   "outputs": [],
   "source": [
    "# Define training arguments\n",
    "training_args = TrainingArguments(\n",
    "    output_dir=\"./flan_t5_fine_tuned\",\n",
    "    num_train_epochs=10,  # Adjust as needed\n",
    "    per_device_train_batch_size=4,  # Adjust as needed\n",
    "    save_steps=10_000,\n",
    "    save_total_limit=2,\n",
    "    evaluation_strategy=\"steps\",\n",
    "    eval_steps=2_000,\n",
    ")\n",
    "\n",
    "# Initialize the Trainer with default collate_fn\n",
    "trainer = Trainer(\n",
    "    model=model,\n",
    "    args=training_args,\n",
    "    train_dataset=dataset,\n",
    "    eval_dataset=eval_dataset,  # Provide the evaluation dataset\n",
    "    data_collator=collate_fn,  # Use the custom collate function\n",
    ")"
   ]
  },
  {
   "cell_type": "code",
   "execution_count": null,
   "id": "b48ac0d9-6cbb-4d93-8b32-4350a76c7e50",
   "metadata": {},
   "outputs": [],
   "source": [
    "# Fine-tune the model\n",
    "trainer.train()\n",
    "output_dir=\"./flan_t5_fine_tuned\"\n",
    "trainer.model.save_pretrained(output_dir)\n",
    "tokenizer.save_pretrained(output_dir)"
   ]
  },
  {
   "cell_type": "code",
   "execution_count": null,
   "id": "e8f4c4f4-5d18-4bb6-b261-0e0be2eef55c",
   "metadata": {},
   "outputs": [],
   "source": []
  }
 ],
 "metadata": {
  "kernelspec": {
   "display_name": "Python 3 (ipykernel)",
   "language": "python",
   "name": "python3"
  },
  "language_info": {
   "codemirror_mode": {
    "name": "ipython",
    "version": 3
   },
   "file_extension": ".py",
   "mimetype": "text/x-python",
   "name": "python",
   "nbconvert_exporter": "python",
   "pygments_lexer": "ipython3",
   "version": "3.11.7"
  }
 },
 "nbformat": 4,
 "nbformat_minor": 5
}
