{
 "cells": [
  {
   "cell_type": "code",
   "execution_count": null,
   "id": "c6ebcab8-abab-42c5-9a5a-f57c17ab3e31",
   "metadata": {},
   "outputs": [],
   "source": [
    "from transformers import AutoModelForSeq2SeqLM, AutoTokenizer\n",
    "# full fine tuning  model\n",
    "output_dir=\"./flan_t5_fine_tuned\"    \n",
    "\n",
    "# PEFT model\n",
    "# output_dir=\"./flan_t5_fine_tuned_peft-local\"   \n",
    "\n",
    "# Load the fine-tuned model\n",
    "model = AutoModelForSeq2SeqLM.from_pretrained(output_dir)  # Specify the correct path to the fine-tuned model\n",
    "\n",
    "# Load the tokenizer\n",
    "tokenizer = AutoTokenizer.from_pretrained(output_dir)  # Specify the correct path to the fine-tuned mode\n",
    "# tokenizer.pad_token = tokenizer.eos_token"
   ]
  },
  {
   "cell_type": "code",
   "execution_count": null,
   "id": "3eb2e69f-5c5a-4407-8121-e23d2fd87fdb",
   "metadata": {},
   "outputs": [],
   "source": [
    "# Input prompt\n",
    "# input_prompt = \"who is your boss?\"\n",
    "input_prompt = \"hello\"\n",
    "\n",
    "# Tokenize and generate the model's response\n",
    "input_encodings = tokenizer(input_prompt, return_tensors=\"pt\", truncation=True, padding=True)\n",
    "output_ids = model.generate(input_encodings[\"input_ids\"])\n",
    "\n",
    "# Decode the generated output\n",
    "output_text = tokenizer.decode(output_ids[0], skip_special_tokens=True)\n",
    "\n",
    "# Print the result\n",
    "print(\"Input:\", input_prompt)\n",
    "print(\"Model's Response:\", output_text)"
   ]
  },
  {
   "cell_type": "code",
   "execution_count": null,
   "id": "b66f3da8-ec77-42c1-8780-9546e39d0ab0",
   "metadata": {},
   "outputs": [],
   "source": []
  }
 ],
 "metadata": {
  "kernelspec": {
   "display_name": "Python 3 (ipykernel)",
   "language": "python",
   "name": "python3"
  },
  "language_info": {
   "codemirror_mode": {
    "name": "ipython",
    "version": 3
   },
   "file_extension": ".py",
   "mimetype": "text/x-python",
   "name": "python",
   "nbconvert_exporter": "python",
   "pygments_lexer": "ipython3",
   "version": "3.11.7"
  }
 },
 "nbformat": 4,
 "nbformat_minor": 5
}
